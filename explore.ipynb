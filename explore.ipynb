{
 "cells": [
  {
   "cell_type": "markdown",
   "metadata": {},
   "source": [
    "## Imports Section\n",
    "All od the libraries below are not included with the standard python installation and must be downloaded using pip install package-name"
   ]
  },
  {
   "cell_type": "code",
   "execution_count": 180,
   "metadata": {},
   "outputs": [],
   "source": [
    "import pandas as pd\n",
    "import numpy as np\n",
    "import matplotlib.pyplot as plt\n",
    "import seaborn as sns\n",
    "import ruptures as rpt"
   ]
  },
  {
   "cell_type": "code",
   "execution_count": 2,
   "metadata": {},
   "outputs": [
    {
     "data": {
      "text/html": [
       "<div>\n",
       "<style scoped>\n",
       "    .dataframe tbody tr th:only-of-type {\n",
       "        vertical-align: middle;\n",
       "    }\n",
       "\n",
       "    .dataframe tbody tr th {\n",
       "        vertical-align: top;\n",
       "    }\n",
       "\n",
       "    .dataframe thead th {\n",
       "        text-align: right;\n",
       "    }\n",
       "</style>\n",
       "<table border=\"1\" class=\"dataframe\">\n",
       "  <thead>\n",
       "    <tr style=\"text-align: right;\">\n",
       "      <th></th>\n",
       "      <th>Province_State</th>\n",
       "      <th>Admin2</th>\n",
       "      <th>UID</th>\n",
       "      <th>iso2</th>\n",
       "      <th>iso3</th>\n",
       "      <th>code3</th>\n",
       "      <th>FIPS</th>\n",
       "      <th>Country_Region</th>\n",
       "      <th>Lat</th>\n",
       "      <th>Long_</th>\n",
       "      <th>...</th>\n",
       "      <th>10/22/22</th>\n",
       "      <th>10/23/22</th>\n",
       "      <th>10/24/22</th>\n",
       "      <th>10/25/22</th>\n",
       "      <th>10/26/22</th>\n",
       "      <th>10/27/22</th>\n",
       "      <th>10/28/22</th>\n",
       "      <th>10/29/22</th>\n",
       "      <th>10/30/22</th>\n",
       "      <th>10/31/22</th>\n",
       "    </tr>\n",
       "  </thead>\n",
       "  <tbody>\n",
       "    <tr>\n",
       "      <td>0</td>\n",
       "      <td>Alabama</td>\n",
       "      <td>Autauga</td>\n",
       "      <td>84001001</td>\n",
       "      <td>US</td>\n",
       "      <td>USA</td>\n",
       "      <td>840</td>\n",
       "      <td>1001.0</td>\n",
       "      <td>US</td>\n",
       "      <td>32.539527</td>\n",
       "      <td>-86.644082</td>\n",
       "      <td>...</td>\n",
       "      <td>18480</td>\n",
       "      <td>18480</td>\n",
       "      <td>18480</td>\n",
       "      <td>18480</td>\n",
       "      <td>18480</td>\n",
       "      <td>18511</td>\n",
       "      <td>18511</td>\n",
       "      <td>18511</td>\n",
       "      <td>18511</td>\n",
       "      <td>18511</td>\n",
       "    </tr>\n",
       "    <tr>\n",
       "      <td>1</td>\n",
       "      <td>Alabama</td>\n",
       "      <td>Baldwin</td>\n",
       "      <td>84001003</td>\n",
       "      <td>US</td>\n",
       "      <td>USA</td>\n",
       "      <td>840</td>\n",
       "      <td>1003.0</td>\n",
       "      <td>US</td>\n",
       "      <td>30.727750</td>\n",
       "      <td>-87.722071</td>\n",
       "      <td>...</td>\n",
       "      <td>65895</td>\n",
       "      <td>65895</td>\n",
       "      <td>65895</td>\n",
       "      <td>65895</td>\n",
       "      <td>65895</td>\n",
       "      <td>65973</td>\n",
       "      <td>65973</td>\n",
       "      <td>65973</td>\n",
       "      <td>65973</td>\n",
       "      <td>65973</td>\n",
       "    </tr>\n",
       "    <tr>\n",
       "      <td>2</td>\n",
       "      <td>Alabama</td>\n",
       "      <td>Barbour</td>\n",
       "      <td>84001005</td>\n",
       "      <td>US</td>\n",
       "      <td>USA</td>\n",
       "      <td>840</td>\n",
       "      <td>1005.0</td>\n",
       "      <td>US</td>\n",
       "      <td>31.868263</td>\n",
       "      <td>-85.387129</td>\n",
       "      <td>...</td>\n",
       "      <td>6926</td>\n",
       "      <td>6926</td>\n",
       "      <td>6926</td>\n",
       "      <td>6926</td>\n",
       "      <td>6926</td>\n",
       "      <td>6930</td>\n",
       "      <td>6930</td>\n",
       "      <td>6930</td>\n",
       "      <td>6930</td>\n",
       "      <td>6930</td>\n",
       "    </tr>\n",
       "    <tr>\n",
       "      <td>3</td>\n",
       "      <td>Alabama</td>\n",
       "      <td>Bibb</td>\n",
       "      <td>84001007</td>\n",
       "      <td>US</td>\n",
       "      <td>USA</td>\n",
       "      <td>840</td>\n",
       "      <td>1007.0</td>\n",
       "      <td>US</td>\n",
       "      <td>32.996421</td>\n",
       "      <td>-87.125115</td>\n",
       "      <td>...</td>\n",
       "      <td>7560</td>\n",
       "      <td>7560</td>\n",
       "      <td>7560</td>\n",
       "      <td>7560</td>\n",
       "      <td>7560</td>\n",
       "      <td>7575</td>\n",
       "      <td>7575</td>\n",
       "      <td>7575</td>\n",
       "      <td>7575</td>\n",
       "      <td>7575</td>\n",
       "    </tr>\n",
       "    <tr>\n",
       "      <td>4</td>\n",
       "      <td>Alabama</td>\n",
       "      <td>Blount</td>\n",
       "      <td>84001009</td>\n",
       "      <td>US</td>\n",
       "      <td>USA</td>\n",
       "      <td>840</td>\n",
       "      <td>1009.0</td>\n",
       "      <td>US</td>\n",
       "      <td>33.982109</td>\n",
       "      <td>-86.567906</td>\n",
       "      <td>...</td>\n",
       "      <td>17286</td>\n",
       "      <td>17286</td>\n",
       "      <td>17286</td>\n",
       "      <td>17286</td>\n",
       "      <td>17286</td>\n",
       "      <td>17320</td>\n",
       "      <td>17320</td>\n",
       "      <td>17320</td>\n",
       "      <td>17320</td>\n",
       "      <td>17320</td>\n",
       "    </tr>\n",
       "  </tbody>\n",
       "</table>\n",
       "<p>5 rows × 1025 columns</p>\n",
       "</div>"
      ],
      "text/plain": [
       "  Province_State   Admin2       UID iso2 iso3  code3    FIPS Country_Region  \\\n",
       "0        Alabama  Autauga  84001001   US  USA    840  1001.0             US   \n",
       "1        Alabama  Baldwin  84001003   US  USA    840  1003.0             US   \n",
       "2        Alabama  Barbour  84001005   US  USA    840  1005.0             US   \n",
       "3        Alabama     Bibb  84001007   US  USA    840  1007.0             US   \n",
       "4        Alabama   Blount  84001009   US  USA    840  1009.0             US   \n",
       "\n",
       "         Lat      Long_  ... 10/22/22  10/23/22  10/24/22  10/25/22  10/26/22  \\\n",
       "0  32.539527 -86.644082  ...    18480     18480     18480     18480     18480   \n",
       "1  30.727750 -87.722071  ...    65895     65895     65895     65895     65895   \n",
       "2  31.868263 -85.387129  ...     6926      6926      6926      6926      6926   \n",
       "3  32.996421 -87.125115  ...     7560      7560      7560      7560      7560   \n",
       "4  33.982109 -86.567906  ...    17286     17286     17286     17286     17286   \n",
       "\n",
       "   10/27/22  10/28/22  10/29/22  10/30/22  10/31/22  \n",
       "0     18511     18511     18511     18511     18511  \n",
       "1     65973     65973     65973     65973     65973  \n",
       "2      6930      6930      6930      6930      6930  \n",
       "3      7575      7575      7575      7575      7575  \n",
       "4     17320     17320     17320     17320     17320  \n",
       "\n",
       "[5 rows x 1025 columns]"
      ]
     },
     "execution_count": 2,
     "metadata": {},
     "output_type": "execute_result"
    }
   ],
   "source": [
    "us_confirmed_cases = pd.read_csv('./data/RAW_us_confirmed_cases.csv')\n",
    "us_confirmed_cases.head()"
   ]
  },
  {
   "cell_type": "markdown",
   "metadata": {},
   "source": [
    "## Finding the UID\n",
    "In order to find teh UID for Baltimore County I searched through the [UID lookup table](https://github.com/CSSEGISandData/COVID-19/blob/master/csse_covid_19_data/UID_ISO_FIPS_LookUp_Table.csv) and obtained it from the list"
   ]
  },
  {
   "cell_type": "code",
   "execution_count": 9,
   "metadata": {},
   "outputs": [],
   "source": [
    "baltimore_uid = 84024005"
   ]
  },
  {
   "cell_type": "code",
   "execution_count": 39,
   "metadata": {},
   "outputs": [
    {
     "data": {
      "text/html": [
       "<div>\n",
       "<style scoped>\n",
       "    .dataframe tbody tr th:only-of-type {\n",
       "        vertical-align: middle;\n",
       "    }\n",
       "\n",
       "    .dataframe tbody tr th {\n",
       "        vertical-align: top;\n",
       "    }\n",
       "\n",
       "    .dataframe thead th {\n",
       "        text-align: right;\n",
       "    }\n",
       "</style>\n",
       "<table border=\"1\" class=\"dataframe\">\n",
       "  <thead>\n",
       "    <tr style=\"text-align: right;\">\n",
       "      <th></th>\n",
       "      <th>Province_State</th>\n",
       "      <th>Admin2</th>\n",
       "      <th>UID</th>\n",
       "      <th>iso2</th>\n",
       "      <th>iso3</th>\n",
       "      <th>code3</th>\n",
       "      <th>FIPS</th>\n",
       "      <th>Country_Region</th>\n",
       "      <th>Lat</th>\n",
       "      <th>Long_</th>\n",
       "      <th>...</th>\n",
       "      <th>10/22/22</th>\n",
       "      <th>10/23/22</th>\n",
       "      <th>10/24/22</th>\n",
       "      <th>10/25/22</th>\n",
       "      <th>10/26/22</th>\n",
       "      <th>10/27/22</th>\n",
       "      <th>10/28/22</th>\n",
       "      <th>10/29/22</th>\n",
       "      <th>10/30/22</th>\n",
       "      <th>10/31/22</th>\n",
       "    </tr>\n",
       "  </thead>\n",
       "  <tbody>\n",
       "    <tr>\n",
       "      <td>1241</td>\n",
       "      <td>Maryland</td>\n",
       "      <td>Baltimore</td>\n",
       "      <td>84024005</td>\n",
       "      <td>US</td>\n",
       "      <td>USA</td>\n",
       "      <td>840</td>\n",
       "      <td>24005.0</td>\n",
       "      <td>US</td>\n",
       "      <td>39.457847</td>\n",
       "      <td>-76.62912</td>\n",
       "      <td>...</td>\n",
       "      <td>159745</td>\n",
       "      <td>159745</td>\n",
       "      <td>159817</td>\n",
       "      <td>159997</td>\n",
       "      <td>160070</td>\n",
       "      <td>160174</td>\n",
       "      <td>160279</td>\n",
       "      <td>160279</td>\n",
       "      <td>160279</td>\n",
       "      <td>160371</td>\n",
       "    </tr>\n",
       "  </tbody>\n",
       "</table>\n",
       "<p>1 rows × 1025 columns</p>\n",
       "</div>"
      ],
      "text/plain": [
       "     Province_State     Admin2       UID iso2 iso3  code3     FIPS  \\\n",
       "1241       Maryland  Baltimore  84024005   US  USA    840  24005.0   \n",
       "\n",
       "     Country_Region        Lat     Long_  ... 10/22/22  10/23/22  10/24/22  \\\n",
       "1241             US  39.457847 -76.62912  ...   159745    159745    159817   \n",
       "\n",
       "      10/25/22  10/26/22  10/27/22  10/28/22  10/29/22  10/30/22  10/31/22  \n",
       "1241    159997    160070    160174    160279    160279    160279    160371  \n",
       "\n",
       "[1 rows x 1025 columns]"
      ]
     },
     "execution_count": 39,
     "metadata": {},
     "output_type": "execute_result"
    }
   ],
   "source": [
    "baltimore_data = us_confirmed_cases[us_confirmed_cases['UID'] == baltimore_uid]\n",
    "baltimore_data.head()"
   ]
  },
  {
   "cell_type": "code",
   "execution_count": 24,
   "metadata": {},
   "outputs": [],
   "source": [
    "# Access just the cases data\n",
    "cases_data = baltimore_data[baltimore_data.columns[11:]].values[0]"
   ]
  },
  {
   "cell_type": "code",
   "execution_count": 41,
   "metadata": {},
   "outputs": [
    {
     "data": {
      "text/plain": [
       "Text(0.5, 0, 'Days since 1/22/20')"
      ]
     },
     "execution_count": 41,
     "metadata": {},
     "output_type": "execute_result"
    },
    {
     "data": {
      "image/png": "[encoded data removed]",
      "text/plain": [
       "<Figure size 432x288 with 1 Axes>"
      ]
     },
     "metadata": {
      "needs_background": "light"
     },
     "output_type": "display_data"
    }
   ],
   "source": [
    "plt.plot(range(len(cases_data)),cases_data)\n",
    "plt.ylabel('Total Cases')\n",
    "plt.xlabel(\"Days since 1/22/20\")"
   ]
  },
  {
   "cell_type": "code",
   "execution_count": 42,
   "metadata": {},
   "outputs": [
    {
     "data": {
      "text/plain": [
       "Text(0.5, 0, 'Days since 1/22/20')"
      ]
     },
     "execution_count": 42,
     "metadata": {},
     "output_type": "execute_result"
    },
    {
     "data": {
      "image/png": "[encoded data removed]",
      "text/plain": [
       "<Figure size 432x288 with 1 Axes>"
      ]
     },
     "metadata": {
      "needs_background": "light"
     },
     "output_type": "display_data"
    }
   ],
   "source": [
    "plt.plot(range(len(cases_data)-1),np.diff(cases_data))\n",
    "plt.ylabel('Daily Cases')\n",
    "plt.xlabel(\"Days since 1/22/20\")"
   ]
  },
  {
   "cell_type": "code",
   "execution_count": 95,
   "metadata": {},
   "outputs": [
    {
     "data": {
      "text/plain": [
       "Text(0.5, 0, 'Days since 1/22/20')"
      ]
     },
     "execution_count": 95,
     "metadata": {},
     "output_type": "execute_result"
    },
    {
     "data": {
      "image/png": "[encoded data removed]",
      "text/plain": [
       "<Figure size 432x288 with 1 Axes>"
      ]
     },
     "metadata": {
      "needs_background": "light"
     },
     "output_type": "display_data"
    }
   ],
   "source": [
    "plt.plot(range(len(cases_data)-2),np.diff(np.diff(cases_data)))\n",
    "plt.ylabel('Change in Daily Cases')\n",
    "plt.xlabel(\"Days since 1/22/20\")"
   ]
  },
  {
   "cell_type": "markdown",
   "metadata": {},
   "source": [
    "## Exploring the Mask Use By Conty Dataset"
   ]
  },
  {
   "cell_type": "code",
   "execution_count": 33,
   "metadata": {},
   "outputs": [
    {
     "data": {
      "text/html": [
       "<div>\n",
       "<style scoped>\n",
       "    .dataframe tbody tr th:only-of-type {\n",
       "        vertical-align: middle;\n",
       "    }\n",
       "\n",
       "    .dataframe tbody tr th {\n",
       "        vertical-align: top;\n",
       "    }\n",
       "\n",
       "    .dataframe thead th {\n",
       "        text-align: right;\n",
       "    }\n",
       "</style>\n",
       "<table border=\"1\" class=\"dataframe\">\n",
       "  <thead>\n",
       "    <tr style=\"text-align: right;\">\n",
       "      <th></th>\n",
       "      <th>COUNTYFP</th>\n",
       "      <th>NEVER</th>\n",
       "      <th>RARELY</th>\n",
       "      <th>SOMETIMES</th>\n",
       "      <th>FREQUENTLY</th>\n",
       "      <th>ALWAYS</th>\n",
       "    </tr>\n",
       "  </thead>\n",
       "  <tbody>\n",
       "    <tr>\n",
       "      <td>0</td>\n",
       "      <td>1001</td>\n",
       "      <td>0.053</td>\n",
       "      <td>0.074</td>\n",
       "      <td>0.134</td>\n",
       "      <td>0.295</td>\n",
       "      <td>0.444</td>\n",
       "    </tr>\n",
       "    <tr>\n",
       "      <td>1</td>\n",
       "      <td>1003</td>\n",
       "      <td>0.083</td>\n",
       "      <td>0.059</td>\n",
       "      <td>0.098</td>\n",
       "      <td>0.323</td>\n",
       "      <td>0.436</td>\n",
       "    </tr>\n",
       "    <tr>\n",
       "      <td>2</td>\n",
       "      <td>1005</td>\n",
       "      <td>0.067</td>\n",
       "      <td>0.121</td>\n",
       "      <td>0.120</td>\n",
       "      <td>0.201</td>\n",
       "      <td>0.491</td>\n",
       "    </tr>\n",
       "    <tr>\n",
       "      <td>3</td>\n",
       "      <td>1007</td>\n",
       "      <td>0.020</td>\n",
       "      <td>0.034</td>\n",
       "      <td>0.096</td>\n",
       "      <td>0.278</td>\n",
       "      <td>0.572</td>\n",
       "    </tr>\n",
       "    <tr>\n",
       "      <td>4</td>\n",
       "      <td>1009</td>\n",
       "      <td>0.053</td>\n",
       "      <td>0.114</td>\n",
       "      <td>0.180</td>\n",
       "      <td>0.194</td>\n",
       "      <td>0.459</td>\n",
       "    </tr>\n",
       "  </tbody>\n",
       "</table>\n",
       "</div>"
      ],
      "text/plain": [
       "   COUNTYFP  NEVER  RARELY  SOMETIMES  FREQUENTLY  ALWAYS\n",
       "0      1001  0.053   0.074      0.134       0.295   0.444\n",
       "1      1003  0.083   0.059      0.098       0.323   0.436\n",
       "2      1005  0.067   0.121      0.120       0.201   0.491\n",
       "3      1007  0.020   0.034      0.096       0.278   0.572\n",
       "4      1009  0.053   0.114      0.180       0.194   0.459"
      ]
     },
     "execution_count": 33,
     "metadata": {},
     "output_type": "execute_result"
    }
   ],
   "source": [
    "mask_compliance = pd.read_csv('./data/mask-use-by-county.csv')\n",
    "mask_compliance.head()"
   ]
  },
  {
   "cell_type": "code",
   "execution_count": 60,
   "metadata": {},
   "outputs": [
    {
     "data": {
      "text/plain": [
       "Text(0.5, 1.0, 'Histogram of Percentage of people stating thaty they always mask')"
      ]
     },
     "execution_count": 60,
     "metadata": {},
     "output_type": "execute_result"
    },
    {
     "data": {
      "image/png": "[encoded data removed]",
      "text/plain": [
       "<Figure size 432x288 with 1 Axes>"
      ]
     },
     "metadata": {
      "needs_background": "light"
     },
     "output_type": "display_data"
    }
   ],
   "source": [
    "plt.hist(mask_compliance['ALWAYS'])\n",
    "plt.title(\"Histogram of Percentage of people stating thaty they always mask\")"
   ]
  },
  {
   "cell_type": "markdown",
   "metadata": {},
   "source": [
    "## Finding the FP for Baltimore\n",
    "Using the us counties 2021 index found [here](https://raw.githubusercontent.com/nytimes/covid-19-data/master/us-counties-2021.csv) I searched and found the FP for Baltimore county"
   ]
  },
  {
   "cell_type": "code",
   "execution_count": 34,
   "metadata": {},
   "outputs": [],
   "source": [
    "county_fp = 24005"
   ]
  },
  {
   "cell_type": "code",
   "execution_count": 38,
   "metadata": {},
   "outputs": [
    {
     "data": {
      "text/html": [
       "<div>\n",
       "<style scoped>\n",
       "    .dataframe tbody tr th:only-of-type {\n",
       "        vertical-align: middle;\n",
       "    }\n",
       "\n",
       "    .dataframe tbody tr th {\n",
       "        vertical-align: top;\n",
       "    }\n",
       "\n",
       "    .dataframe thead th {\n",
       "        text-align: right;\n",
       "    }\n",
       "</style>\n",
       "<table border=\"1\" class=\"dataframe\">\n",
       "  <thead>\n",
       "    <tr style=\"text-align: right;\">\n",
       "      <th></th>\n",
       "      <th>COUNTYFP</th>\n",
       "      <th>NEVER</th>\n",
       "      <th>RARELY</th>\n",
       "      <th>SOMETIMES</th>\n",
       "      <th>FREQUENTLY</th>\n",
       "      <th>ALWAYS</th>\n",
       "    </tr>\n",
       "  </thead>\n",
       "  <tbody>\n",
       "    <tr>\n",
       "      <td>1195</td>\n",
       "      <td>24005</td>\n",
       "      <td>0.013</td>\n",
       "      <td>0.024</td>\n",
       "      <td>0.043</td>\n",
       "      <td>0.142</td>\n",
       "      <td>0.777</td>\n",
       "    </tr>\n",
       "  </tbody>\n",
       "</table>\n",
       "</div>"
      ],
      "text/plain": [
       "      COUNTYFP  NEVER  RARELY  SOMETIMES  FREQUENTLY  ALWAYS\n",
       "1195     24005  0.013   0.024      0.043       0.142   0.777"
      ]
     },
     "execution_count": 38,
     "metadata": {},
     "output_type": "execute_result"
    }
   ],
   "source": [
    "baltimore_mack_compliance = mask_compliance[mask_compliance['COUNTYFP'] == county_fp]\n",
    "baltimore_mack_compliance.head()"
   ]
  },
  {
   "cell_type": "code",
   "execution_count": 88,
   "metadata": {},
   "outputs": [
    {
     "name": "stdout",
     "output_type": "stream",
     "text": [
      "[('NEVER', 4.3368086899380734e-17), ('RARELY', 1.0842021724853072e-16), ('SOMETIMES', 4.3368086899380734e-17), ('FREQUENTLY', 0.077056884765625), ('ALWAYS', 95.3125)]\n"
     ]
    }
   ],
   "source": [
    "# What percentile is Baltimore county in alwsys adhering to \n",
    "# Masking policy\n",
    "\n",
    "# Find the percentage using bisection search\n",
    "percentile_array = []\n",
    "for c in baltimore_mack_compliance.columns[1:]:\n",
    "    target = baltimore_mack_compliance[c].values[0]\n",
    "    rng = (0,100)\n",
    "    low = [rng[0], rng[1]/2]\n",
    "    high = [rng[1]/2,rng[1]]\n",
    "    for i in range(100):\n",
    "        low_target = np.percentile(mask_compliance['ALWAYS'],(low[1]+low[0])/2)\n",
    "        high_target = np.percentile(mask_compliance['ALWAYS'],(high[1]+high[0])/2)\n",
    "        if np.abs(target-low_target) <  np.abs(target-high_target):\n",
    "            low = [low[0],(low[1]+low[0])/2]\n",
    "            high = [(low[1]+low[0])/2,(low[1])]\n",
    "        else:\n",
    "            low = [high[0],(high[1]+high[0])/2]\n",
    "            high = [(high[1]+high[0])/2,(high[1])]\n",
    "    percentile_array.append((c,low[0]))\n",
    "print(percentile_array)"
   ]
  },
  {
   "cell_type": "markdown",
   "metadata": {},
   "source": [
    "From percentiles,, it seems that Baltimore county was very good at masking up as they are in the 95th percentile for counties masking and in the other categories that arent as complient they are in very small percentiles"
   ]
  },
  {
   "cell_type": "markdown",
   "metadata": {},
   "source": [
    "## Exploring Mask Mandates By County"
   ]
  },
  {
   "cell_type": "code",
   "execution_count": 36,
   "metadata": {},
   "outputs": [
    {
     "data": {
      "text/html": [
       "<div>\n",
       "<style scoped>\n",
       "    .dataframe tbody tr th:only-of-type {\n",
       "        vertical-align: middle;\n",
       "    }\n",
       "\n",
       "    .dataframe tbody tr th {\n",
       "        vertical-align: top;\n",
       "    }\n",
       "\n",
       "    .dataframe thead th {\n",
       "        text-align: right;\n",
       "    }\n",
       "</style>\n",
       "<table border=\"1\" class=\"dataframe\">\n",
       "  <thead>\n",
       "    <tr style=\"text-align: right;\">\n",
       "      <th></th>\n",
       "      <th>State_Tribe_Territory</th>\n",
       "      <th>County_Name</th>\n",
       "      <th>FIPS_State</th>\n",
       "      <th>FIPS_County</th>\n",
       "      <th>date</th>\n",
       "      <th>order_code</th>\n",
       "      <th>Face_Masks_Required_in_Public</th>\n",
       "      <th>Source_of_Action</th>\n",
       "      <th>URL</th>\n",
       "      <th>Citation</th>\n",
       "    </tr>\n",
       "  </thead>\n",
       "  <tbody>\n",
       "    <tr>\n",
       "      <td>0</td>\n",
       "      <td>AL</td>\n",
       "      <td>Autauga County</td>\n",
       "      <td>1</td>\n",
       "      <td>1</td>\n",
       "      <td>4/10/2020</td>\n",
       "      <td>2</td>\n",
       "      <td>NaN</td>\n",
       "      <td>NaN</td>\n",
       "      <td>NaN</td>\n",
       "      <td>NaN</td>\n",
       "    </tr>\n",
       "    <tr>\n",
       "      <td>1</td>\n",
       "      <td>AL</td>\n",
       "      <td>Autauga County</td>\n",
       "      <td>1</td>\n",
       "      <td>1</td>\n",
       "      <td>4/11/2020</td>\n",
       "      <td>2</td>\n",
       "      <td>NaN</td>\n",
       "      <td>NaN</td>\n",
       "      <td>NaN</td>\n",
       "      <td>NaN</td>\n",
       "    </tr>\n",
       "    <tr>\n",
       "      <td>2</td>\n",
       "      <td>AL</td>\n",
       "      <td>Autauga County</td>\n",
       "      <td>1</td>\n",
       "      <td>1</td>\n",
       "      <td>4/12/2020</td>\n",
       "      <td>2</td>\n",
       "      <td>NaN</td>\n",
       "      <td>NaN</td>\n",
       "      <td>NaN</td>\n",
       "      <td>NaN</td>\n",
       "    </tr>\n",
       "    <tr>\n",
       "      <td>3</td>\n",
       "      <td>AL</td>\n",
       "      <td>Autauga County</td>\n",
       "      <td>1</td>\n",
       "      <td>1</td>\n",
       "      <td>4/13/2020</td>\n",
       "      <td>2</td>\n",
       "      <td>NaN</td>\n",
       "      <td>NaN</td>\n",
       "      <td>NaN</td>\n",
       "      <td>NaN</td>\n",
       "    </tr>\n",
       "    <tr>\n",
       "      <td>4</td>\n",
       "      <td>AL</td>\n",
       "      <td>Autauga County</td>\n",
       "      <td>1</td>\n",
       "      <td>1</td>\n",
       "      <td>4/14/2020</td>\n",
       "      <td>2</td>\n",
       "      <td>NaN</td>\n",
       "      <td>NaN</td>\n",
       "      <td>NaN</td>\n",
       "      <td>NaN</td>\n",
       "    </tr>\n",
       "  </tbody>\n",
       "</table>\n",
       "</div>"
      ],
      "text/plain": [
       "  State_Tribe_Territory     County_Name  FIPS_State  FIPS_County       date  \\\n",
       "0                    AL  Autauga County           1            1  4/10/2020   \n",
       "1                    AL  Autauga County           1            1  4/11/2020   \n",
       "2                    AL  Autauga County           1            1  4/12/2020   \n",
       "3                    AL  Autauga County           1            1  4/13/2020   \n",
       "4                    AL  Autauga County           1            1  4/14/2020   \n",
       "\n",
       "   order_code Face_Masks_Required_in_Public Source_of_Action  URL Citation  \n",
       "0           2                           NaN              NaN  NaN      NaN  \n",
       "1           2                           NaN              NaN  NaN      NaN  \n",
       "2           2                           NaN              NaN  NaN      NaN  \n",
       "3           2                           NaN              NaN  NaN      NaN  \n",
       "4           2                           NaN              NaN  NaN      NaN  "
      ]
     },
     "execution_count": 36,
     "metadata": {},
     "output_type": "execute_result"
    }
   ],
   "source": [
    "mask_mandates = pd.read_csv('./data/U.S._State_and_Territorial_Public_Mask_Mandates_From_April_10__2020_through_August_15__2021_by_County_by_Day.csv')\n",
    "mask_mandates.head()"
   ]
  },
  {
   "cell_type": "code",
   "execution_count": 45,
   "metadata": {},
   "outputs": [
    {
     "data": {
      "text/html": [
       "<div>\n",
       "<style scoped>\n",
       "    .dataframe tbody tr th:only-of-type {\n",
       "        vertical-align: middle;\n",
       "    }\n",
       "\n",
       "    .dataframe tbody tr th {\n",
       "        vertical-align: top;\n",
       "    }\n",
       "\n",
       "    .dataframe thead th {\n",
       "        text-align: right;\n",
       "    }\n",
       "</style>\n",
       "<table border=\"1\" class=\"dataframe\">\n",
       "  <thead>\n",
       "    <tr style=\"text-align: right;\">\n",
       "      <th></th>\n",
       "      <th>State_Tribe_Territory</th>\n",
       "      <th>County_Name</th>\n",
       "      <th>FIPS_State</th>\n",
       "      <th>FIPS_County</th>\n",
       "      <th>date</th>\n",
       "      <th>order_code</th>\n",
       "      <th>Face_Masks_Required_in_Public</th>\n",
       "      <th>Source_of_Action</th>\n",
       "      <th>URL</th>\n",
       "      <th>Citation</th>\n",
       "    </tr>\n",
       "  </thead>\n",
       "  <tbody>\n",
       "    <tr>\n",
       "      <td>317903</td>\n",
       "      <td>MD</td>\n",
       "      <td>Baltimore County</td>\n",
       "      <td>24</td>\n",
       "      <td>5</td>\n",
       "      <td>4/10/2020</td>\n",
       "      <td>2</td>\n",
       "      <td>NaN</td>\n",
       "      <td>NaN</td>\n",
       "      <td>NaN</td>\n",
       "      <td>NaN</td>\n",
       "    </tr>\n",
       "    <tr>\n",
       "      <td>317904</td>\n",
       "      <td>MD</td>\n",
       "      <td>Baltimore County</td>\n",
       "      <td>24</td>\n",
       "      <td>5</td>\n",
       "      <td>4/11/2020</td>\n",
       "      <td>2</td>\n",
       "      <td>NaN</td>\n",
       "      <td>NaN</td>\n",
       "      <td>NaN</td>\n",
       "      <td>NaN</td>\n",
       "    </tr>\n",
       "  </tbody>\n",
       "</table>\n",
       "</div>"
      ],
      "text/plain": [
       "       State_Tribe_Territory       County_Name  FIPS_State  FIPS_County  \\\n",
       "317903                    MD  Baltimore County          24            5   \n",
       "317904                    MD  Baltimore County          24            5   \n",
       "\n",
       "             date  order_code Face_Masks_Required_in_Public Source_of_Action  \\\n",
       "317903  4/10/2020           2                           NaN              NaN   \n",
       "317904  4/11/2020           2                           NaN              NaN   \n",
       "\n",
       "        URL Citation  \n",
       "317903  NaN      NaN  \n",
       "317904  NaN      NaN  "
      ]
     },
     "execution_count": 45,
     "metadata": {},
     "output_type": "execute_result"
    }
   ],
   "source": [
    "baltimore_mask_mandates = mask_mandates[mask_mandates['County_Name'] == 'Baltimore County']\n",
    "baltimore_mask_mandates.head(2)"
   ]
  },
  {
   "cell_type": "markdown",
   "metadata": {},
   "source": [
    "Here I remove the columns that dont contain any data with respect to masking policy. Even though we are supposed to begin the analysis on Febuary 1st 2020, it wouldnt make sense to only use the case data in an anslysis about the efficacy of masking policy. Therefore I will also cut the case data in order to match up with the masking policy data. Also I binarize the masking polic variable for easier use."
   ]
  },
  {
   "cell_type": "code",
   "execution_count": 89,
   "metadata": {},
   "outputs": [
    {
     "data": {
      "text/html": [
       "<div>\n",
       "<style scoped>\n",
       "    .dataframe tbody tr th:only-of-type {\n",
       "        vertical-align: middle;\n",
       "    }\n",
       "\n",
       "    .dataframe tbody tr th {\n",
       "        vertical-align: top;\n",
       "    }\n",
       "\n",
       "    .dataframe thead th {\n",
       "        text-align: right;\n",
       "    }\n",
       "</style>\n",
       "<table border=\"1\" class=\"dataframe\">\n",
       "  <thead>\n",
       "    <tr style=\"text-align: right;\">\n",
       "      <th></th>\n",
       "      <th>State_Tribe_Territory</th>\n",
       "      <th>County_Name</th>\n",
       "      <th>FIPS_State</th>\n",
       "      <th>FIPS_County</th>\n",
       "      <th>date</th>\n",
       "      <th>order_code</th>\n",
       "      <th>Face_Masks_Required_in_Public</th>\n",
       "      <th>Source_of_Action</th>\n",
       "      <th>URL</th>\n",
       "      <th>Citation</th>\n",
       "      <th>Masks_Required</th>\n",
       "    </tr>\n",
       "  </thead>\n",
       "  <tbody>\n",
       "    <tr>\n",
       "      <td>317911</td>\n",
       "      <td>MD</td>\n",
       "      <td>Baltimore County</td>\n",
       "      <td>24</td>\n",
       "      <td>5</td>\n",
       "      <td>4/18/2020</td>\n",
       "      <td>1</td>\n",
       "      <td>Yes</td>\n",
       "      <td>Official</td>\n",
       "      <td>https://governor.maryland.gov/wp-content/uploa...</td>\n",
       "      <td>Md. Exec. Order No. 20-04-15-01 (Apr. 15, 2020)</td>\n",
       "      <td>1</td>\n",
       "    </tr>\n",
       "    <tr>\n",
       "      <td>317912</td>\n",
       "      <td>MD</td>\n",
       "      <td>Baltimore County</td>\n",
       "      <td>24</td>\n",
       "      <td>5</td>\n",
       "      <td>4/19/2020</td>\n",
       "      <td>1</td>\n",
       "      <td>Yes</td>\n",
       "      <td>Official</td>\n",
       "      <td>https://governor.maryland.gov/wp-content/uploa...</td>\n",
       "      <td>Md. Exec. Order No. 20-04-15-01 (Apr. 15, 2020)</td>\n",
       "      <td>1</td>\n",
       "    </tr>\n",
       "  </tbody>\n",
       "</table>\n",
       "</div>"
      ],
      "text/plain": [
       "       State_Tribe_Territory       County_Name  FIPS_State  FIPS_County  \\\n",
       "317911                    MD  Baltimore County          24            5   \n",
       "317912                    MD  Baltimore County          24            5   \n",
       "\n",
       "             date  order_code Face_Masks_Required_in_Public Source_of_Action  \\\n",
       "317911  4/18/2020           1                           Yes         Official   \n",
       "317912  4/19/2020           1                           Yes         Official   \n",
       "\n",
       "                                                      URL  \\\n",
       "317911  https://governor.maryland.gov/wp-content/uploa...   \n",
       "317912  https://governor.maryland.gov/wp-content/uploa...   \n",
       "\n",
       "                                               Citation  Masks_Required  \n",
       "317911  Md. Exec. Order No. 20-04-15-01 (Apr. 15, 2020)               1  \n",
       "317912  Md. Exec. Order No. 20-04-15-01 (Apr. 15, 2020)               1  "
      ]
     },
     "execution_count": 89,
     "metadata": {},
     "output_type": "execute_result"
    }
   ],
   "source": [
    "baltimore_mask_mandates = baltimore_mask_mandates[baltimore_mask_mandates['Face_Masks_Required_in_Public'].notna()]\n",
    "baltimore_mask_mandates['Masks_Required'] = baltimore_mask_mandates['Face_Masks_Required_in_Public'].map({\"Yes\":1, \"No\":0}).values\n",
    "baltimore_mask_mandates.head(2)"
   ]
  },
  {
   "cell_type": "code",
   "execution_count": 91,
   "metadata": {},
   "outputs": [
    {
     "data": {
      "text/plain": [
       "array(['Md. Exec. Order No. 20-04-15-01 (Apr. 15, 2020)',\n",
       "       'Md. Exec. Order No. 20-07-29-01 (July 29, 2020)',\n",
       "       'Md. Exec. Order No. 20-08-03-01 (Aug. 3, 2020)',\n",
       "       'Md. Exec. Order No. 20-09-01-01 (Sept. 1, 2020)',\n",
       "       'Md. Exec. Order No. 20-09-18-01 (Sept. 18, 2020)',\n",
       "       'Md. Exec. Order No. 20-09-28-01 (Sept. 28, 2020)',\n",
       "       'Md. Exec. Order No. 20-10-16-02 (Oct. 16, 2020)',\n",
       "       'Md. Exec. Order No. 20-11-10-01 (Nov. 10 2020)',\n",
       "       'Md. Exec. Order No. 20-11-17-01 (Nov. 17 2020)',\n",
       "       'Md. Exec. Order No. 21-01-28-01 (Jan. 28, 2021)',\n",
       "       'Md. Exec. Order No. 21-02-23-01 (Feb. 23, 2021)',\n",
       "       'Md. Exec. Order No. 21-03-09-01 (Mar. 9, 2021)',\n",
       "       'Md. Exec. Order No. 21-04-21-01 (Apr. 21, 2021)',\n",
       "       'Md. Exec. Order No. 21-04-28-01 (Apr. 28, 2021)',\n",
       "       'Md. Exec. Order No. 21-05-14-01 (May 14, 2021)'], dtype=object)"
      ]
     },
     "execution_count": 91,
     "metadata": {},
     "output_type": "execute_result"
    }
   ],
   "source": [
    "baltimore_mask_mandates['Citation'].unique()"
   ]
  },
  {
   "cell_type": "markdown",
   "metadata": {},
   "source": [
    "## Looking into the policies that are enacted\n",
    "There are 15 different policy statments made and each of them may be different\n",
    "Here are the links to all 15\n",
    "- [Md. Exec. Order No. 20-04-15-01 (Apr. 15, 2020)](https://governor.maryland.gov/wp-content/uploads/2020/04/Masks-and-Physical-Distancing-4.15.20.pdf)\n",
    "- [Md. Exec. Order No. 20-07-29-01 (July 29, 2020)](https://governor.maryland.gov/wp-content/uploads/2020/07/Gatherings-10th-AMENDED-7.29.20.pdf)\n",
    "- [Md. Exec. Order No. 20-08-03-01 (Aug. 3, 2020)](https://governor.maryland.gov/wp-content/uploads/2020/08/2020-08-03-11-08.pdf)\n",
    "- [Md. Exec. Order No. 20-09-01-01 (Sept. 1, 2020)](https://governor.maryland.gov/wp-content/uploads/2020/09/Gatherings-12th-AMENDED-9.1.20.pdf)\n",
    "- [Md. Exec. Order No. 20-09-18-01 (Sept. 18, 2020)](https://governor.maryland.gov/wp-content/uploads/2020/09/Gatherings-13th-AMENDED-9.18.20.pdf)\n",
    "- [Md. Exec. Order No. 20-09-28-01 (Sept. 28, 2020)](https://governor.maryland.gov/wp-content/uploads/2020/09/Gatherings-14th-AMENDED-9.28.20.pdf)\n",
    "- [Md. Exec. Order No. 20-10-16-02 (Oct. 16, 2020)](https://governor.maryland.gov/wp-content/uploads/2020/10/Gatherings-15th-AMENDED-10.16.20.pdf)\n",
    "- [Md. Exec. Order No. 20-11-10-01 (Nov. 10 2020)](https://governor.maryland.gov/wp-content/uploads/2020/11/EO-11.10.20.pdf)\n",
    "- [Md. Exec. Order No. 20-11-17-01 (Nov. 17 2020)](https://governor.maryland.gov/wp-content/uploads/2020/11/Order-20-11-17-01.pdf)\n",
    "- [Md. Exec. Order No. 21-01-28-01 (Jan. 28, 2021)](https://governor.maryland.gov/wp-content/uploads/2021/01/Gatherings-18th-AMENDED-01.28.21.pdf)\n",
    "- [Md. Exec. Order No. 21-02-23-01 (Feb. 23, 2021)](https://governor.maryland.gov/wp-content/uploads/2021/03/Gatherings-19th-AMENDED-02.23.21.pdf)\n",
    "- [Md. Exec. Order No. 21-03-09-01 (Mar. 9, 2021)](https://governor.maryland.gov/wp-content/uploads/2021/03/Gatherings-20th-AMENDED-3.9.21.pdf)\n",
    "- [Md. Exec. Order No. 21-04-21-01 (Apr. 21, 2021)](https://governor.maryland.gov/wp-content/uploads/2021/04/Gatherings-22d-AMENDED-4.28.21.pdf)\n",
    "- Md. Exec. Order No. 21-04-28-01 (Apr. 28, 2021) - cannot find\n",
    "- [Md. Exec. Order No. 21-05-14-01 (May 14, 2021)](https://governor.maryland.gov/wp-content/uploads/2021/05/Gatherings-24th-AMENDED-5.14.21.pdf)"
   ]
  },
  {
   "cell_type": "markdown",
   "metadata": {},
   "source": [
    "## Categorizing Masking Policy Stringency\n",
    "- (Apr. 15, 2020)\n",
    "    - no large gatherings\n",
    "    - physical distance for retail establishments\n",
    "    - face coverings\n",
    "- (July 29, 2020)\n",
    "    - no large gatherings\n",
    "    - social distincing\n",
    "    - face coverings\n",
    "    - places required to close\n",
    "- (Aug. 3, 2020)\n",
    "    - no large gatherings\n",
    "    - social distancing\n",
    "    - face coverings\n",
    "    - places required to close\n",
    "- (Sept. 1, 2020)\n",
    "    - no large gatherings\n",
    "    - social distancing\n",
    "    - face coverings\n",
    "    - places required to close\n",
    "- (Sept. 18, 2020)\n",
    "    - no large gatherings\n",
    "    - social distancing\n",
    "    - face coverings\n",
    "    - places required to close\n",
    "- (Sept. 28, 2020)\n",
    "    - no large gatherings\n",
    "    - social distancing\n",
    "    - face coverings\n",
    "    - places required to close\n",
    "- (Oct. 16, 2020)\n",
    "    - no large gatherings\n",
    "    - social distancing\n",
    "    - face coverings\n",
    "    - places required to close\n",
    "- (Nov. 10 2020)\n",
    "    - no large gatherings\n",
    "    - social distancing\n",
    "    - face coverings\n",
    "    - places required to close\n",
    "- (Nov. 17 2020)\n",
    "    - no large gatherings\n",
    "    - social distancing\n",
    "    - face coverings\n",
    "    - places required to close\n",
    "- (Jan. 28, 2020)\n",
    "    - no large gatherings\n",
    "    - social distancing\n",
    "    - face coverings\n",
    "    - places required to close\n",
    "- (Feb. 23, 2021)\n",
    "    - no large gatherings\n",
    "    - social distancing\n",
    "    - face coverings\n",
    "- (Mar. 9, 2021)\n",
    "    - face coverings\n",
    "- (Apr. 21, 2021)\n",
    "    - face coverings\n",
    "- (Apr. 28, 2021) - cannot find\n",
    "- (May 14, 2021)\n",
    "    - Basically no mask mandate\n",
    "Going to assume that the policy from April 21st was the same as the previous"
   ]
  },
  {
   "cell_type": "markdown",
   "metadata": {},
   "source": [
    "The mapping is as follows\n",
    "- 0: Basically no mandate\n",
    "- 1: Face coverings required\n",
    "- 2: No large Gatherings, face coverings required, and social distincing\n",
    "- 3: No large Gatherings, places required to close down, face coverings required, and social distincing"
   ]
  },
  {
   "cell_type": "code",
   "execution_count": 93,
   "metadata": {},
   "outputs": [],
   "source": [
    "## Mapping policys to values\n",
    "baltimore_mask_mandates['Citation_Mapped'] = baltimore_mask_mandates['Citation'].map(\n",
    "    {\n",
    "       'Md. Exec. Order No. 20-04-15-01 (Apr. 15, 2020)' : 2,\n",
    "       'Md. Exec. Order No. 20-07-29-01 (July 29, 2020)' : 3,\n",
    "       'Md. Exec. Order No. 20-08-03-01 (Aug. 3, 2020)' :3,\n",
    "       'Md. Exec. Order No. 20-09-01-01 (Sept. 1, 2020)':3,\n",
    "       'Md. Exec. Order No. 20-09-18-01 (Sept. 18, 2020)':3,\n",
    "       'Md. Exec. Order No. 20-09-28-01 (Sept. 28, 2020)':3,\n",
    "       'Md. Exec. Order No. 20-10-16-02 (Oct. 16, 2020)':3,\n",
    "       'Md. Exec. Order No. 20-11-10-01 (Nov. 10 2020)':3,\n",
    "       'Md. Exec. Order No. 20-11-17-01 (Nov. 17 2020)':3,\n",
    "       'Md. Exec. Order No. 21-01-28-01 (Jan. 28, 2021)':3,\n",
    "       'Md. Exec. Order No. 21-02-23-01 (Feb. 23, 2021)':2,\n",
    "       'Md. Exec. Order No. 21-03-09-01 (Mar. 9, 2021)': 1,\n",
    "       'Md. Exec. Order No. 21-04-21-01 (Apr. 21, 2021)':1,\n",
    "       'Md. Exec. Order No. 21-04-28-01 (Apr. 28, 2021)':1,\n",
    "       'Md. Exec. Order No. 21-05-14-01 (May 14, 2021)':0 \n",
    "    }\n",
    ")"
   ]
  },
  {
   "cell_type": "markdown",
   "metadata": {},
   "source": [
    "## Exploring the relationship between mandate stringency and daily cases"
   ]
  },
  {
   "cell_type": "code",
   "execution_count": 96,
   "metadata": {},
   "outputs": [
    {
     "data": {
      "text/html": [
       "<div>\n",
       "<style scoped>\n",
       "    .dataframe tbody tr th:only-of-type {\n",
       "        vertical-align: middle;\n",
       "    }\n",
       "\n",
       "    .dataframe tbody tr th {\n",
       "        vertical-align: top;\n",
       "    }\n",
       "\n",
       "    .dataframe thead th {\n",
       "        text-align: right;\n",
       "    }\n",
       "</style>\n",
       "<table border=\"1\" class=\"dataframe\">\n",
       "  <thead>\n",
       "    <tr style=\"text-align: right;\">\n",
       "      <th></th>\n",
       "      <th>date</th>\n",
       "      <th>Citation_Mapped</th>\n",
       "    </tr>\n",
       "  </thead>\n",
       "  <tbody>\n",
       "    <tr>\n",
       "      <td>317911</td>\n",
       "      <td>4/18/2020</td>\n",
       "      <td>2</td>\n",
       "    </tr>\n",
       "    <tr>\n",
       "      <td>317912</td>\n",
       "      <td>4/19/2020</td>\n",
       "      <td>2</td>\n",
       "    </tr>\n",
       "    <tr>\n",
       "      <td>317913</td>\n",
       "      <td>4/20/2020</td>\n",
       "      <td>2</td>\n",
       "    </tr>\n",
       "    <tr>\n",
       "      <td>317914</td>\n",
       "      <td>4/21/2020</td>\n",
       "      <td>2</td>\n",
       "    </tr>\n",
       "    <tr>\n",
       "      <td>317915</td>\n",
       "      <td>4/22/2020</td>\n",
       "      <td>2</td>\n",
       "    </tr>\n",
       "    <tr>\n",
       "      <td>...</td>\n",
       "      <td>...</td>\n",
       "      <td>...</td>\n",
       "    </tr>\n",
       "    <tr>\n",
       "      <td>1131836</td>\n",
       "      <td>8/11/2021</td>\n",
       "      <td>0</td>\n",
       "    </tr>\n",
       "    <tr>\n",
       "      <td>1131837</td>\n",
       "      <td>8/12/2021</td>\n",
       "      <td>0</td>\n",
       "    </tr>\n",
       "    <tr>\n",
       "      <td>1131838</td>\n",
       "      <td>8/13/2021</td>\n",
       "      <td>0</td>\n",
       "    </tr>\n",
       "    <tr>\n",
       "      <td>1131839</td>\n",
       "      <td>8/14/2021</td>\n",
       "      <td>0</td>\n",
       "    </tr>\n",
       "    <tr>\n",
       "      <td>1131840</td>\n",
       "      <td>8/15/2021</td>\n",
       "      <td>0</td>\n",
       "    </tr>\n",
       "  </tbody>\n",
       "</table>\n",
       "<p>485 rows × 2 columns</p>\n",
       "</div>"
      ],
      "text/plain": [
       "              date  Citation_Mapped\n",
       "317911   4/18/2020                2\n",
       "317912   4/19/2020                2\n",
       "317913   4/20/2020                2\n",
       "317914   4/21/2020                2\n",
       "317915   4/22/2020                2\n",
       "...            ...              ...\n",
       "1131836  8/11/2021                0\n",
       "1131837  8/12/2021                0\n",
       "1131838  8/13/2021                0\n",
       "1131839  8/14/2021                0\n",
       "1131840  8/15/2021                0\n",
       "\n",
       "[485 rows x 2 columns]"
      ]
     },
     "execution_count": 96,
     "metadata": {},
     "output_type": "execute_result"
    }
   ],
   "source": [
    "baltimore_mask_mandates[['date','Citation_Mapped']]"
   ]
  },
  {
   "cell_type": "code",
   "execution_count": 136,
   "metadata": {},
   "outputs": [],
   "source": [
    "# Clip the cases so that timelines of mandate data match up with case data\n",
    "# Also move back the dates 5 days as that is the average time it takes for someone\n",
    "# To become symptomatic, and therefore have suspicion enough to take a test for covid \n",
    "clipped_case_data = baltimore_data[baltimore_data.columns[93:578]].values[0]"
   ]
  },
  {
   "cell_type": "code",
   "execution_count": 137,
   "metadata": {},
   "outputs": [],
   "source": [
    "daily_vs_stringency = pd.DataFrame(data=np.array([baltimore_mask_mandates['Citation_Mapped'].values[1:],np.diff(clipped_case_data)]).T,columns=[\"Stringency\", \"Cases\"])"
   ]
  },
  {
   "cell_type": "markdown",
   "metadata": {},
   "source": [
    "This plot shows the relationship between mandate stringency and the daily number of cases. Higher numbers for stringency indicate more strict COVID policies. Now obviously this is an oversimplified model of stringency as there are many other factors that go into it that will have downstream impacts on daily cases than what were accounted for."
   ]
  },
  {
   "cell_type": "code",
   "execution_count": 138,
   "metadata": {},
   "outputs": [
    {
     "data": {
      "text/plain": [
       "<matplotlib.axes._subplots.AxesSubplot at 0x1879cea2648>"
      ]
     },
     "execution_count": 138,
     "metadata": {},
     "output_type": "execute_result"
    },
    {
     "data": {
      "image/png": "[encoded data removed]",
      "text/plain": [
       "<Figure size 432x288 with 1 Axes>"
      ]
     },
     "metadata": {
      "needs_background": "light"
     },
     "output_type": "display_data"
    }
   ],
   "source": [
    "sns.violinplot(data=daily_vs_stringency,x='Stringency',y='Cases')"
   ]
  },
  {
   "cell_type": "code",
   "execution_count": 139,
   "metadata": {},
   "outputs": [
    {
     "data": {
      "text/html": [
       "<div>\n",
       "<style scoped>\n",
       "    .dataframe tbody tr th:only-of-type {\n",
       "        vertical-align: middle;\n",
       "    }\n",
       "\n",
       "    .dataframe tbody tr th {\n",
       "        vertical-align: top;\n",
       "    }\n",
       "\n",
       "    .dataframe thead th {\n",
       "        text-align: right;\n",
       "    }\n",
       "</style>\n",
       "<table border=\"1\" class=\"dataframe\">\n",
       "  <thead>\n",
       "    <tr style=\"text-align: right;\">\n",
       "      <th></th>\n",
       "      <th>Cases</th>\n",
       "    </tr>\n",
       "    <tr>\n",
       "      <th>Stringency</th>\n",
       "      <th></th>\n",
       "    </tr>\n",
       "  </thead>\n",
       "  <tbody>\n",
       "    <tr>\n",
       "      <td>0</td>\n",
       "      <td>801.666433</td>\n",
       "    </tr>\n",
       "    <tr>\n",
       "      <td>1</td>\n",
       "      <td>6250.154229</td>\n",
       "    </tr>\n",
       "    <tr>\n",
       "      <td>2</td>\n",
       "      <td>2428.766578</td>\n",
       "    </tr>\n",
       "    <tr>\n",
       "      <td>3</td>\n",
       "      <td>12087.411894</td>\n",
       "    </tr>\n",
       "  </tbody>\n",
       "</table>\n",
       "</div>"
      ],
      "text/plain": [
       "                   Cases\n",
       "Stringency              \n",
       "0             801.666433\n",
       "1            6250.154229\n",
       "2            2428.766578\n",
       "3           12087.411894"
      ]
     },
     "execution_count": 139,
     "metadata": {},
     "output_type": "execute_result"
    }
   ],
   "source": [
    "daily_vs_stringency.groupby('Stringency').var()"
   ]
  },
  {
   "cell_type": "code",
   "execution_count": 140,
   "metadata": {},
   "outputs": [
    {
     "data": {
      "text/html": [
       "<div>\n",
       "<style scoped>\n",
       "    .dataframe tbody tr th:only-of-type {\n",
       "        vertical-align: middle;\n",
       "    }\n",
       "\n",
       "    .dataframe tbody tr th {\n",
       "        vertical-align: top;\n",
       "    }\n",
       "\n",
       "    .dataframe thead th {\n",
       "        text-align: right;\n",
       "    }\n",
       "</style>\n",
       "<table border=\"1\" class=\"dataframe\">\n",
       "  <thead>\n",
       "    <tr style=\"text-align: right;\">\n",
       "      <th></th>\n",
       "      <th>Cases</th>\n",
       "    </tr>\n",
       "    <tr>\n",
       "      <th>Stringency</th>\n",
       "      <th></th>\n",
       "    </tr>\n",
       "  </thead>\n",
       "  <tbody>\n",
       "    <tr>\n",
       "      <td>0</td>\n",
       "      <td>30.913978</td>\n",
       "    </tr>\n",
       "    <tr>\n",
       "      <td>1</td>\n",
       "      <td>199.238806</td>\n",
       "    </tr>\n",
       "    <tr>\n",
       "      <td>2</td>\n",
       "      <td>93.692308</td>\n",
       "    </tr>\n",
       "    <tr>\n",
       "      <td>3</td>\n",
       "      <td>187.729469</td>\n",
       "    </tr>\n",
       "  </tbody>\n",
       "</table>\n",
       "</div>"
      ],
      "text/plain": [
       "                 Cases\n",
       "Stringency            \n",
       "0            30.913978\n",
       "1           199.238806\n",
       "2            93.692308\n",
       "3           187.729469"
      ]
     },
     "execution_count": 140,
     "metadata": {},
     "output_type": "execute_result"
    }
   ],
   "source": [
    "daily_vs_stringency.groupby('Stringency').mean()"
   ]
  },
  {
   "cell_type": "markdown",
   "metadata": {},
   "source": [
    "Since the magnitide of change will be smaller in the earlier stages we instead want to look a the percentage changes from day to day to see if mandates have an impact on that"
   ]
  },
  {
   "cell_type": "code",
   "execution_count": 148,
   "metadata": {},
   "outputs": [],
   "source": [
    "daily_percent_vs_stringency = pd.DataFrame(data=np.array([baltimore_mask_mandates['Citation_Mapped'].values[1:],100*np.diff(clipped_case_data)/clipped_case_data[1:]]).T,columns=[\"Stringency\", \"Cases\"])"
   ]
  },
  {
   "cell_type": "code",
   "execution_count": 149,
   "metadata": {},
   "outputs": [
    {
     "data": {
      "text/plain": [
       "<matplotlib.axes._subplots.AxesSubplot at 0x1879d1c9388>"
      ]
     },
     "execution_count": 149,
     "metadata": {},
     "output_type": "execute_result"
    },
    {
     "data": {
      "image/png": "[encoded data removed]",
      "text/plain": [
       "<Figure size 432x288 with 1 Axes>"
      ]
     },
     "metadata": {
      "needs_background": "light"
     },
     "output_type": "display_data"
    }
   ],
   "source": [
    "sns.violinplot(data=daily_percent_vs_stringency,x='Stringency',y='Cases')"
   ]
  },
  {
   "cell_type": "markdown",
   "metadata": {},
   "source": [
    "This plot of the percentage change in daily rates shows interesting patterns similiar to a dampening harmonic oscilator. There could be some variable accountable for both the upticks and the decreases in these numbers related to masking policy"
   ]
  },
  {
   "cell_type": "code",
   "execution_count": 235,
   "metadata": {},
   "outputs": [
    {
     "data": {
      "text/plain": [
       "Text(0, 0.5, 'Percentage change in Daily cases')"
      ]
     },
     "execution_count": 235,
     "metadata": {},
     "output_type": "execute_result"
    },
    {
     "data": {
      "image/png": "[encoded data removed]",
      "text/plain": [
       "<Figure size 1440x432 with 1 Axes>"
      ]
     },
     "metadata": {
      "needs_background": "light"
     },
     "output_type": "display_data"
    }
   ],
   "source": [
    "plt.plot(100*np.diff(clipped_case_data)/clipped_case_data[1:])\n",
    "plt.xlabel(\"Days since 4/18/2020\")\n",
    "plt.ylabel(\"Percentage change in Daily cases\")"
   ]
  },
  {
   "cell_type": "code",
   "execution_count": 176,
   "metadata": {},
   "outputs": [],
   "source": [
    "daily_vs_stringency = pd.DataFrame(data=np.array([baltimore_mask_mandates['Citation_Mapped'].values[2:],np.diff(np.diff(clipped_case_data))]).T,columns=[\"Stringency\", \"Cases\"])"
   ]
  },
  {
   "cell_type": "code",
   "execution_count": 177,
   "metadata": {},
   "outputs": [
    {
     "data": {
      "text/plain": [
       "<matplotlib.axes._subplots.AxesSubplot at 0x187a4898f48>"
      ]
     },
     "execution_count": 177,
     "metadata": {},
     "output_type": "execute_result"
    },
    {
     "data": {
      "image/png": "[encoded data removed]",
      "text/plain": [
       "<Figure size 432x288 with 1 Axes>"
      ]
     },
     "metadata": {
      "needs_background": "light"
     },
     "output_type": "display_data"
    }
   ],
   "source": [
    "sns.violinplot(data=daily_vs_stringency,x='Stringency',y='Cases')"
   ]
  },
  {
   "cell_type": "markdown",
   "metadata": {},
   "source": [
    "## Identify Changepoints And See If They Line Up With Any Policy Changes"
   ]
  },
  {
   "cell_type": "code",
   "execution_count": 181,
   "metadata": {},
   "outputs": [],
   "source": [
    "model = \"rbf\"\n",
    "algo = rpt.Pelt(model=model, min_size=3, jump=5).fit(100*np.diff(clipped_case_data)/clipped_case_data[1:])"
   ]
  },
  {
   "cell_type": "code",
   "execution_count": 186,
   "metadata": {},
   "outputs": [
    {
     "data": {
      "text/plain": [
       "[0, 104, 107, 139, 156, 163, 181, 207, 216, 285, 311, 325, 368, 375, 392]"
      ]
     },
     "execution_count": 186,
     "metadata": {},
     "output_type": "execute_result"
    }
   ],
   "source": [
    "policy_change_timepoints = []\n",
    "prev = None\n",
    "for i,c in enumerate(baltimore_mask_mandates['Citation']):\n",
    "    if c != prev:\n",
    "        policy_change_timepoints.append(i)\n",
    "    prev = c\n",
    "policy_change_timepoints"
   ]
  },
  {
   "cell_type": "code",
   "execution_count": 236,
   "metadata": {},
   "outputs": [
    {
     "data": {
      "image/png": "[encoded data removed]",
      "text/plain": [
       "<Figure size 720x432 with 1 Axes>"
      ]
     },
     "metadata": {
      "needs_background": "light"
     },
     "output_type": "display_data"
    }
   ],
   "source": [
    "my_bkps = algo.predict(pen=3)\n",
    "# show results\n",
    "fig, ax_arr = rpt.display(100*np.diff(clipped_case_data)/clipped_case_data[1:], my_bkps, figsize=(10, 6))\n",
    "\n",
    "ax_arr[0].scatter(policy_change_timepoints,[3.5+(i*.2) for i in range(len(policy_change_timepoints))])\n",
    "\n",
    "labels = [s.replace('Md. Exec. Order No. ', '')[12:] for s in baltimore_mask_mandates['Citation'].values[policy_change_timepoints]]\n",
    "\n",
    "for i in range(len(policy_change_timepoints)):\n",
    "    ax_arr[0].annotate(labels[i], (policy_change_timepoints[i], 3.4+(i*.2)),fontsize=8)\n",
    "plt.xlabel(\"Days since April 15th 2020\")\n",
    "plt.ylabel(\"Percentage Change in Daily Cases\")\n",
    "plt.title(\"Changepoint Analysis of Percentage Change in Daily Case Data\")\n",
    "plt.show()"
   ]
  },
  {
   "cell_type": "markdown",
   "metadata": {},
   "source": [
    "## Further Investigation \n",
    "Based on the above graph there are a few interesting policy changes that lie before change points.\n",
    "- Apr 15 2020\n",
    "    - First legal mask mandate order\n",
    "- July 29 2020 & Aug 3 2020 (because they lie at an inflection point)\n",
    "    - Before only take out food, now people can eat outside and inside so long as there is less than 50% capacity\n",
    "    - Theaters closed down\n",
    "    - Gambling establishments allowed to open up\n",
    "- Sept 18 2020\n",
    "    - Establishments capacity increased to 75% from 50\n",
    "    - Theaters allowed to open\n",
    "- Nov 17  2020 (Because of inflection point proximity)\n",
    "    - They had increased the occupancy limit of establishments in teh order before, however in this order they reduced it back to 50%\n",
    "    - Reclosure of senior centers\n",
    "    - Government gatherings limited\n",
    "- April 28 2021\n",
    "    - The one that I couldnt find the executive order for"
   ]
  },
  {
   "cell_type": "markdown",
   "metadata": {},
   "source": [
    "These policy changes seem to have less to do with masking policy and more with the stringency of large gatherings. "
   ]
  },
  {
   "cell_type": "code",
   "execution_count": null,
   "metadata": {},
   "outputs": [],
   "source": []
  }
 ],
 "metadata": {
  "kernelspec": {
   "display_name": "Python 3.7.4 ('base')",
   "language": "python",
   "name": "python3"
  },
  "language_info": {
   "codemirror_mode": {
    "name": "ipython",
    "version": 3
   },
   "file_extension": ".py",
   "mimetype": "text/x-python",
   "name": "python",
   "nbconvert_exporter": "python",
   "pygments_lexer": "ipython3",
   "version": "3.7.4"
  },
  "orig_nbformat": 4,
  "vscode": {
   "interpreter": {
    "hash": "ad2bdc8ecc057115af97d19610ffacc2b4e99fae6737bb82f5d7fb13d2f2c186"
   }
  }
 },
 "nbformat": 4,
 "nbformat_minor": 2
}
